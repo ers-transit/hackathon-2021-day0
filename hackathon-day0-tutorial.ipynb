{
 "cells": [
  {
   "cell_type": "markdown",
   "metadata": {
    "slideshow": {
     "slide_type": "slide"
    }
   },
   "source": [
    "\n",
    "<img src=https://ers-transit.github.io/images/hex-transit.svg width=33% alt=\"ers-transit logo, with transit light curve embedded in hexagonal mirror\">\n",
    "\n",
    "# *Day 0* = How do we get started working with JWST data?\n",
    "\n"
   ]
  },
  {
   "cell_type": "markdown",
   "metadata": {
    "slideshow": {
     "slide_type": "slide"
    }
   },
   "source": [
    "## Learning Goals\n",
    "\n",
    "This tutorial is designed to help an enthusiastic astronomer start using the Python coding language to start interacting with JWST data. By completing this tutorial, we hope for you be able to:\n",
    "- use Anaconda Python on your computer\n",
    "- have access a self-contained JWST coding environment\n",
    "- run code, write thoughts, and see outputs in a jupyter notebook\n",
    "- import code from modules and packages\n",
    "- open a simulated JWST dataset\n"
   ]
  },
  {
   "cell_type": "markdown",
   "metadata": {
    "slideshow": {
     "slide_type": "slide"
    }
   },
   "source": [
    "## Installing Anaconda `python`."
   ]
  },
  {
   "cell_type": "markdown",
   "metadata": {
    "slideshow": {
     "slide_type": "slide"
    }
   },
   "source": [
    "### Why are we using Python?$^*$\n",
    "- It's good.\n",
    "- It's free and open-source.\n",
    "- STScI uses it for JWST and all new code tools.\n",
    "\n",
    "*$^*$Other languages and analysis tools are great too!*"
   ]
  },
  {
   "cell_type": "markdown",
   "metadata": {
    "slideshow": {
     "slide_type": "slide"
    }
   },
   "source": [
    "### Why are we using Anaconda?\n",
    "\n",
    "[Anaconda](https://www.anaconda.com/products/individual) is an open-source Python distribution. \n",
    "\n",
    "\"*My computer has python already installed. Why should I install it again?*\""
   ]
  },
  {
   "cell_type": "markdown",
   "metadata": {
    "slideshow": {
     "slide_type": "fragment"
    }
   },
   "source": [
    "- `conda` can create and manage self-contained environments with all the dependencies you need. Python codes inevitably have oodles of dependencies, requiring specific versions of specific packages be installed. \n",
    "- `conda` also makes all computers (Mac, Windows, Linux) behave more similarly to each other. That makes it much easier to collaborate with other folks."
   ]
  },
  {
   "cell_type": "markdown",
   "metadata": {
    "slideshow": {
     "slide_type": "slide"
    }
   },
   "source": [
    "### How do we install Anaconda? \n",
    "- Download the [Anaconda Individual Edition](https://www.anaconda.com/products/individual). The file should be about 400-500MB. \n",
    "- Once the download is complete:\n",
    "    - If you downloaded a Graphical Installer, open the installer file and follow the instructions.\n",
    "    - If you downloaded a Command Line Installer, run `bash Anaconda3-2021.05-MacOSX-x86_64.sh` (or whatever the exact filename is) in a Terminal.\n"
   ]
  },
  {
   "cell_type": "markdown",
   "metadata": {
    "slideshow": {
     "slide_type": "slide"
    }
   },
   "source": [
    "### Is it working?\n",
    "\n",
    "Once installed, you can test your `conda` installation in one of two ways:\n",
    "1. Open the Anaconda-Navigator application on your computer. If it opens, it works!\n",
    "2. In a Terminal (Mac/Linux) or the Anaconda Prompt (Windows), run the command `conda info`. If it gives some info, it works!\n"
   ]
  },
  {
   "cell_type": "markdown",
   "metadata": {
    "slideshow": {
     "slide_type": "slide"
    }
   },
   "source": [
    "## Creating an `ers-transit` conda environment."
   ]
  },
  {
   "cell_type": "markdown",
   "metadata": {
    "slideshow": {
     "slide_type": "slide"
    }
   },
   "source": [
    "\n",
    "We defined an `ers-transit` \"conda environment\" with the correct version of Python and all the ingredients you need to get started. \n",
    "\n",
    "To set up this environment:\n",
    "1. Use a Terminal (Mac/Windows) or Anaconda Prompt (Windows) to navigate to this tutorial's directory, which contains the file `environment.yml`. \n",
    "2. Run the command `conda env create -f environment.yml`. It should take a few minutes to finish.\n"
   ]
  },
  {
   "cell_type": "markdown",
   "metadata": {
    "slideshow": {
     "slide_type": "slide"
    }
   },
   "source": [
    "### How do `conda` environments make life easier?\n",
    "\n",
    "Each `conda` environment can be turned on and off. This can be really helpful when you have different codes that depend on different versions of packages or Python across your computer; because environments are self-contained, you can experiment in one place without disrupting everything everywhere else!"
   ]
  },
  {
   "cell_type": "markdown",
   "metadata": {
    "slideshow": {
     "slide_type": "slide"
    }
   },
   "source": [
    "### How do we enter or and leave `conda` environments?\n",
    "Once your environment has been created:\n",
    "- You can enter the environment by running `conda activate ers-transit`\n",
    "- You can see all the environments on your computer by running `conda env list`\n",
    "- You can leave the environment by running `conda deactivate`"
   ]
  },
  {
   "cell_type": "markdown",
   "metadata": {
    "slideshow": {
     "slide_type": "skip"
    }
   },
   "source": [
    "(ZKBT, you should include some Anaconda-Navigator instructions for this too!)"
   ]
  },
  {
   "cell_type": "markdown",
   "metadata": {},
   "source": [
    "# `ZKBT, pick up from here!`"
   ]
  },
  {
   "cell_type": "markdown",
   "metadata": {
    "slideshow": {
     "slide_type": "slide"
    }
   },
   "source": [
    "## Using `jupyter notebook`."
   ]
  },
  {
   "cell_type": "markdown",
   "metadata": {},
   "source": [
    "Opening this jupyter notebook."
   ]
  },
  {
   "cell_type": "markdown",
   "metadata": {},
   "source": [
    "Named after Galileo."
   ]
  },
  {
   "cell_type": "markdown",
   "metadata": {},
   "source": [
    "Watch out for running things out of order."
   ]
  },
  {
   "cell_type": "markdown",
   "metadata": {
    "slideshow": {
     "slide_type": "slide"
    }
   },
   "source": [
    "## Using `python` packages and modules."
   ]
  },
  {
   "cell_type": "markdown",
   "metadata": {},
   "source": [
    "Sometimes you don't want to see all your code."
   ]
  },
  {
   "cell_type": "markdown",
   "metadata": {},
   "source": [
    "Short example of writing your own tiny module."
   ]
  },
  {
   "cell_type": "markdown",
   "metadata": {
    "slideshow": {
     "slide_type": "slide"
    }
   },
   "source": [
    "## Downloading simulated data."
   ]
  },
  {
   "cell_type": "markdown",
   "metadata": {},
   "source": [
    "ZKBT, can I create a tiny practice dataset to include in the repository? "
   ]
  },
  {
   "cell_type": "markdown",
   "metadata": {
    "slideshow": {
     "slide_type": "slide"
    }
   },
   "source": [
    "## Testing on a single pixel."
   ]
  },
  {
   "cell_type": "markdown",
   "metadata": {},
   "source": [
    "Plot one pixel."
   ]
  },
  {
   "cell_type": "markdown",
   "metadata": {},
   "source": [
    "## Homework\n",
    "\n",
    "Plot a slightly different pixel than the one we plotted in the Guided Tutorial. "
   ]
  }
 ],
 "metadata": {
  "celltoolbar": "Slideshow",
  "kernelspec": {
   "display_name": "Python 3",
   "language": "python",
   "name": "python3"
  },
  "language_info": {
   "codemirror_mode": {
    "name": "ipython",
    "version": 3
   },
   "file_extension": ".py",
   "mimetype": "text/x-python",
   "name": "python",
   "nbconvert_exporter": "python",
   "pygments_lexer": "ipython3",
   "version": "3.9.5"
  }
 },
 "nbformat": 4,
 "nbformat_minor": 4
}
