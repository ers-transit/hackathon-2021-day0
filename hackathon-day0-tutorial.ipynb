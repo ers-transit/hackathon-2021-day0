{
 "cells": [
  {
   "cell_type": "markdown",
   "metadata": {
    "slideshow": {
     "slide_type": "slide"
    }
   },
   "source": [
    "\n",
    "<img src=https://ers-transit.github.io/images/hex-transit.svg width=33% alt=\"ers-transit logo, with transit light curve embedded in hexagonal mirror\">\n",
    "\n",
    "# *Day 0* = How do we get started working with JWST data?\n",
    "\n"
   ]
  },
  {
   "cell_type": "markdown",
   "metadata": {
    "slideshow": {
     "slide_type": "slide"
    }
   },
   "source": [
    "## Learning Goals\n",
    "\n",
    "This tutorial is designed to help an enthusiastic astronomer start using the Python coding language to start interacting with JWST data. By completing this tutorial, we hope for you be able to:\n",
    "- use Anaconda Python on your computer\n",
    "- have access a self-contained JWST coding environment\n",
    "- run code, write thoughts, and see outputs in a jupyter notebook\n",
    "- import code from modules and packages\n",
    "- open a simulated JWST dataset\n"
   ]
  },
  {
   "cell_type": "markdown",
   "metadata": {
    "slideshow": {
     "slide_type": "slide"
    }
   },
   "source": [
    "## Installing Anaconda `python`."
   ]
  },
  {
   "cell_type": "markdown",
   "metadata": {
    "slideshow": {
     "slide_type": "slide"
    }
   },
   "source": [
    "### Why are we using Python?$^*$\n",
    "- It's good.\n",
    "- It's free and open-source.\n",
    "- STScI uses it for JWST and all new code tools.\n",
    "\n",
    "*$^*$Other languages and analysis tools are great too!*"
   ]
  },
  {
   "cell_type": "markdown",
   "metadata": {
    "slideshow": {
     "slide_type": "slide"
    }
   },
   "source": [
    "### Why are we using Anaconda?\n",
    "\n",
    "[Anaconda](https://www.anaconda.com/products/individual) is an open-source Python distribution. \n",
    "\n",
    "\"*My computer has python already installed. Why should I install it again?*\""
   ]
  },
  {
   "cell_type": "markdown",
   "metadata": {
    "slideshow": {
     "slide_type": "slide"
    }
   },
   "source": [
    "- `conda` can create and manage self-contained environments with all the dependencies you need$^*$. Python codes inevitably have oodles of dependencies, requiring specific versions of specific packages be installed.\n",
    "- `conda` also makes all computers (Mac, Windows, Linux) behave more similarly to each other. That makes it much easier to collaborate with other folks.\n",
    "\n",
    "$^*$There are other snazzy tools for this too, like `pyenv` and `poetry`. Christina Hedges has a nice [introduction](https://christinahedges.github.io/astronomy_workflow/) to them."
   ]
  },
  {
   "cell_type": "markdown",
   "metadata": {
    "slideshow": {
     "slide_type": "slide"
    }
   },
   "source": [
    "### How do we install Anaconda? \n",
    "- Download the [Anaconda Individual Edition](https://www.anaconda.com/products/individual). The file should be about 400-500MB. \n",
    "- Once the download is complete:\n",
    "    - If you downloaded a Graphical Installer, open the installer file and follow the instructions.\n",
    "    - If you downloaded a Command Line Installer, run `bash Anaconda3-2021.05-MacOSX-x86_64.sh` (or whatever the exact filename is) in a Terminal.\n"
   ]
  },
  {
   "cell_type": "markdown",
   "metadata": {
    "slideshow": {
     "slide_type": "slide"
    }
   },
   "source": [
    "### Is it working?\n",
    "\n",
    "Once installed, you can test your `conda` installation in one of two ways:\n",
    "1. Open the Anaconda-Navigator application on your computer. If it opens, it works!\n",
    "2. In a Terminal (Mac/Linux) or the Anaconda Prompt (Windows), run the command `conda info`. If it gives some info, it works!\n"
   ]
  },
  {
   "cell_type": "markdown",
   "metadata": {
    "slideshow": {
     "slide_type": "slide"
    }
   },
   "source": [
    "## Creating an `ers-transit` conda environment."
   ]
  },
  {
   "cell_type": "markdown",
   "metadata": {
    "slideshow": {
     "slide_type": "slide"
    }
   },
   "source": [
    "### How do `conda` environments make life easier?\n",
    "\n",
    "Each `conda` environment can be turned on and off. This can be really helpful when you have different codes that depend on different versions of packages or Python across your computer; because environments are self-contained, you can experiment in one place without disrupting everything everywhere else!"
   ]
  },
  {
   "cell_type": "markdown",
   "metadata": {
    "slideshow": {
     "slide_type": "slide"
    }
   },
   "source": [
    "\n",
    "We defined an `ers-transit` \"conda environment\" with the correct version of Python and all the ingredients you need to get started. \n",
    "\n",
    "To set up this environment:\n",
    "1. Use a Terminal (Mac/Windows) or Anaconda Prompt (Windows) to navigate to this tutorial's directory, which contains the file `environment.yml`. \n",
    "2. Run the command `conda env create -f environment.yml`. It should take a few minutes to finish.\n"
   ]
  },
  {
   "cell_type": "markdown",
   "metadata": {
    "slideshow": {
     "slide_type": "slide"
    }
   },
   "source": [
    "### How do we enter or and leave `conda` environments?\n",
    "Once your environment has been created:\n",
    "- You can enter the environment by running `conda activate ers-transit`\n",
    "- You can see all the environments on your computer by running `conda env list`\n",
    "- You can leave the environment by running `conda deactivate`"
   ]
  },
  {
   "cell_type": "markdown",
   "metadata": {
    "slideshow": {
     "slide_type": "skip"
    }
   },
   "source": [
    "(If you're working in the Anaconda-Navigator graphical user interface, you can manage your conda environments via the *Environments* tab, and create a new one from an `environment.yml` file via the *Import* button.)"
   ]
  },
  {
   "cell_type": "markdown",
   "metadata": {
    "slideshow": {
     "slide_type": "slide"
    }
   },
   "source": [
    "## Using `jupyter notebook`."
   ]
  },
  {
   "cell_type": "markdown",
   "metadata": {
    "slideshow": {
     "slide_type": "slide"
    }
   },
   "source": [
    "A *jupyter notebook* is a document containing code, outputs, and explanatory text."
   ]
  },
  {
   "cell_type": "markdown",
   "metadata": {},
   "source": [
    "### How do we open a jupyter notebook? \n",
    "- Use a Terminal (Mac/Windows) or Anaconda Prompt (Windows) to navigate to this tutorial's directory. \n",
    "- Make sure your `ers-transit` conda environment is activated. \n",
    "- Run `jupyter notebook`. Once a jupyter file browser appears, click the `.ipynb` notebook file to open it."
   ]
  },
  {
   "cell_type": "markdown",
   "metadata": {
    "slideshow": {
     "slide_type": "slide"
    }
   },
   "source": [
    "### How do we run code? \n",
    "- Create *Code* cells, and press **`<shift>+<return>`** to run them."
   ]
  },
  {
   "cell_type": "code",
   "execution_count": null,
   "metadata": {
    "slideshow": {
     "slide_type": "-"
    }
   },
   "outputs": [],
   "source": [
    "import matplotlib.pyplot as plt, numpy as np\n",
    "plt.style.use('bigger-figures.mplstyle')\n",
    "\n",
    "x = np.linspace(0, 6, 500)\n",
    "y = np.random.normal(10*np.exp(-(x-3)**2), 0.5)\n",
    "plt.plot(x, y, color='black'); "
   ]
  },
  {
   "cell_type": "markdown",
   "metadata": {
    "slideshow": {
     "slide_type": "slide"
    }
   },
   "source": [
    "*Be aware:* It's possible to run code cells out of the order that they appear in the notebook. Avoid relying on this, so that you (or someone else) can run your notebook straight through from start to finish."
   ]
  },
  {
   "cell_type": "code",
   "execution_count": null,
   "metadata": {},
   "outputs": [],
   "source": [
    "import astropy.units as u\n",
    "from astropy.constants import G\n",
    "\n",
    "M = 1.0*u.Mearth\n",
    "R = 1.0*u.Rearth"
   ]
  },
  {
   "cell_type": "code",
   "execution_count": null,
   "metadata": {},
   "outputs": [],
   "source": [
    "g = (G*M/R**2).to('m/s**2')\n",
    "print(f'The surface gravity of this planet is {g}')"
   ]
  },
  {
   "cell_type": "code",
   "execution_count": null,
   "metadata": {},
   "outputs": [],
   "source": [
    "M = 1.99e30*u.kg"
   ]
  },
  {
   "cell_type": "markdown",
   "metadata": {},
   "source": [
    "We'll get very different answers depending on the order we run the three above cells."
   ]
  },
  {
   "cell_type": "markdown",
   "metadata": {
    "slideshow": {
     "slide_type": "slide"
    }
   },
   "source": [
    "## Using `python` packages and modules."
   ]
  },
  {
   "cell_type": "markdown",
   "metadata": {},
   "source": [
    "Sometimes you want to use the same code in multiple places, or sometimes you just don't want to see *all* of the code inside your notebook. It can help to store your code in modules or packages. \n",
    "\n",
    "- A `module` is just a text file with a `.py` extension that contains some Python code.\n",
    "- A `package` is a directory full of lots of modules. We've already use the `matplotlib`, `numpy`, and `astropy` packages.\n",
    "\n",
    "We'll walk through a very quick example of how to write your own modules. "
   ]
  },
  {
   "cell_type": "markdown",
   "metadata": {
    "slideshow": {
     "slide_type": "slide"
    }
   },
   "source": [
    "Let's say we write some code to plot a transit light curve. (This just copies the Quickstart for [`batman-package`](https://lweb.cfa.harvard.edu/~lkreidberg/batman/).)"
   ]
  },
  {
   "cell_type": "code",
   "execution_count": null,
   "metadata": {},
   "outputs": [],
   "source": [
    "import batman\n",
    "import numpy as np\n",
    "import matplotlib.pyplot as plt\n",
    "\n",
    "def plot_lightcurve(rp=0.1, a=15.0, inc=87.0, **kw):\n",
    "    params = batman.TransitParams()\n",
    "    params.t0 = 0.                       #time of inferior conjunction\n",
    "    params.per = 1.                      #orbital period\n",
    "    params.rp = rp                      #planet radius (in units of stellar radii)\n",
    "    params.a = a                       #semi-major axis (in units of stellar radii)\n",
    "    params.inc = inc                     #orbital inclination (in degrees)\n",
    "    params.ecc = 0.                      #eccentricity\n",
    "    params.w = 90.                       #longitude of periastron (in degrees)\n",
    "    params.u = [0.1, 0.3]                #limb darkening coefficients [u1, u2]\n",
    "    params.limb_dark = \"quadratic\"       #limb darkening model\n",
    "\n",
    "    t = np.linspace(-0.05, 0.05, 1000)\n",
    "\n",
    "    m = batman.TransitModel(params, t)    #initializes model\n",
    "    flux = m.light_curve(params)          #calculates light curve\n",
    "\n",
    "    # plot the light curves\n",
    "    plt.plot(t, flux, **kw)\n",
    "    plt.xlabel(\"Time from central transit\")\n",
    "    plt.ylabel(\"Relative flux\")"
   ]
  },
  {
   "cell_type": "markdown",
   "metadata": {
    "slideshow": {
     "slide_type": "slide"
    }
   },
   "source": [
    "That code cell defined a function that we can use to plot light curves, if we feed them different inputs."
   ]
  },
  {
   "cell_type": "code",
   "execution_count": null,
   "metadata": {
    "slideshow": {
     "slide_type": "-"
    }
   },
   "outputs": [],
   "source": [
    "plot_lightcurve(rp=0.1, a=20, inc=90.0)\n",
    "plot_lightcurve(rp=0.09, a=20, inc=90.0)"
   ]
  },
  {
   "cell_type": "markdown",
   "metadata": {
    "slideshow": {
     "slide_type": "slide"
    }
   },
   "source": [
    "If all we care about is using the `plot_lightcurve` function and changing a few parameters, we can just paste that exact code into a text file called `visualization.py` in the same directory as this notebook, and then import it here."
   ]
  },
  {
   "cell_type": "code",
   "execution_count": null,
   "metadata": {},
   "outputs": [],
   "source": [
    "import visualization as vi"
   ]
  },
  {
   "cell_type": "code",
   "execution_count": null,
   "metadata": {},
   "outputs": [],
   "source": [
    "vi.plot_lightcurve(rp=0.1, a=20, inc=90.0)\n",
    "vi.plot_lightcurve(rp=0.1, a=20, inc=88.0)"
   ]
  },
  {
   "cell_type": "markdown",
   "metadata": {
    "slideshow": {
     "slide_type": "slide"
    }
   },
   "source": [
    "## Downloading simulated data."
   ]
  },
  {
   "cell_type": "markdown",
   "metadata": {
    "slideshow": {
     "slide_type": "slide"
    }
   },
   "source": [
    "For this Pre-Launch Data Hackathon, teams put together simulated datasets for each of the four JWST instruments: NIRISS, NIRCam, NIRSpec, MIRI. Each simulation has a transit and/or eclipse signal of the exoplanet injected into, all trying to represent the hot Jupiter exoplanet WASP-43b. Because those simulated each contain thousands of integrations, the files are **very** big. \n",
    "\n",
    "The complete simulations, along with notes about how they were created and what their limitations are, are available in a Box folder [here](https://stsci.app.box.com/s/8r6kqh9m53jkwkff0scmed6zx42g307e/folder/135008457626). If you are interested in a particular instrument, these simulations may be a great place to start exploring what its data will look like!"
   ]
  },
  {
   "cell_type": "markdown",
   "metadata": {
    "slideshow": {
     "slide_type": "slide"
    }
   },
   "source": [
    "For convenience, Thomas Beatty made us a mini NIRCam dataset that contains only 10 exposures. It is a calibrated pixel-level dataset that included in this tutorial directory as the file `MiniDataset_calints.fits.gz`.  If you're using this notebook, you've probably already downloaded it!"
   ]
  },
  {
   "cell_type": "markdown",
   "metadata": {
    "slideshow": {
     "slide_type": "slide"
    }
   },
   "source": [
    "## Testing on a single pixel."
   ]
  },
  {
   "cell_type": "markdown",
   "metadata": {
    "slideshow": {
     "slide_type": "slide"
    }
   },
   "source": [
    "Analyzing JWST data is a big task! We'll start small, by looking at how much the brightness recorded by an individual detector pixel changes over time. First we'll open the file and seeing what it's contents are."
   ]
  },
  {
   "cell_type": "code",
   "execution_count": null,
   "metadata": {},
   "outputs": [],
   "source": [
    "from astropy.io import fits\n",
    "\n",
    "# open the mini simulated dataset\n",
    "hdu = fits.open('MiniDataset_calints.fits.gz')\n",
    "\n",
    "# print out some information about its contents\n",
    "hdu.info()"
   ]
  },
  {
   "cell_type": "markdown",
   "metadata": {
    "slideshow": {
     "slide_type": "slide"
    }
   },
   "source": [
    "Next, we'll write a function to plot the light curve of a single pixel. It will take the row and column of the pixel we want to plot as input arguments."
   ]
  },
  {
   "cell_type": "code",
   "execution_count": null,
   "metadata": {
    "slideshow": {
     "slide_type": "-"
    }
   },
   "outputs": [],
   "source": [
    "def plot_single_pixel(row=33, col=1750):\n",
    "    '''\n",
    "    Circle a pixel on the simulated JWST NIRCam dataset,\n",
    "    and plot the light curve of that pixel.\n",
    "    \n",
    "    Parameters:\n",
    "    -----------\n",
    "    row : int\n",
    "        The row of the pixel to plot (starting at 0).\n",
    "    col : int\n",
    "        The column of the pixel to plot (starting at 0).    \n",
    "    '''\n",
    "\n",
    "    # define a 3D array of flux (times x rows x columns)\n",
    "    flux = hdu['SCI'].data\n",
    "\n",
    "    # keep track of the flux units\n",
    "    unit = hdu['SCI'].header['BUNIT']\n",
    "\n",
    "    # calculate a median image from all the integrations\n",
    "    median_image = np.median(flux, 0)\n",
    "    \n",
    "    # pull out the pixel light curve for this row, column\n",
    "    pixel_lightcurve = flux[:, row, col]\n",
    "    time = hdu['INT_TIMES'].data['int_mid_BJD_TDB']\n",
    "    \n",
    "    # create a figure with two spaces to plot into\n",
    "    fi, ax = plt.subplots(2, 1, figsize=(8, 5), dpi=300)\n",
    "    \n",
    "    # plot the median image, with the pixel location circled\n",
    "    plt.sca(ax[0])\n",
    "    bottom, top = np.percentile(median_image, [1, 99.5])\n",
    "    plt.imshow(median_image, aspect='auto', vmin=bottom, vmax=top, cmap='magma')\n",
    "    plt.colorbar(label=f'Pixel Brightness [{unit}]')\n",
    "    plt.scatter(col, row, edgecolor='white', facecolor='none')\n",
    "    plt.text(col, row, f'\\n({col}, {row})', color='white', va='top', ha='center')\n",
    "    plt.xlabel('Column (pixels)')\n",
    "    plt.ylabel('Row (pixels)')\n",
    "    \n",
    "    # plot the light curve of that particular pixel\n",
    "    plt.sca(ax[1])\n",
    "    plt.plot(time, pixel_lightcurve, marker='o', color='black')\n",
    "    plt.xlabel('Time (BJD - 2400000.5)')\n",
    "    ax[1].ticklabel_format(useOffset=False)\n",
    "    plt.ylabel(f'Pixel ({col}, {row}) Flux\\n[in units of {unit}]')\n",
    "    plt.tight_layout() "
   ]
  },
  {
   "cell_type": "markdown",
   "metadata": {},
   "source": [
    "Now, let's plot some random background pixel. It has some noise in it due to the detector noise, the brightness of the sky, and the thermal emission of the telescope itself."
   ]
  },
  {
   "cell_type": "code",
   "execution_count": null,
   "metadata": {
    "slideshow": {
     "slide_type": "slide"
    }
   },
   "outputs": [],
   "source": [
    "plot_single_pixel(row=10, col=200)"
   ]
  },
  {
   "cell_type": "markdown",
   "metadata": {
    "slideshow": {
     "slide_type": "slide"
    }
   },
   "source": [
    "## Homework\n",
    "\n",
    "Here are two activities you can try to complete on your own.\n",
    "\n",
    "1. **Plot a different pixel.** Use the provided function to plot the light curve for a different pixel from this simulated NIRCam dataset. If you are curious to see the light curve of a pixel somewhere along the actual spectrum of the star (aren't you???), try to pick a row and column that falls somewhere along the horizontal stripe in the middle of the image. *(This may seem like a basic assignment, but our sneaky our goal is just to make sure your environment is set up to be able to run Python, load a file, and make a plot.)*\n",
    "2. **Plot a summed light curve.** Plot a light curve that adds together the flux from lots of rows and columns of pixels. In these simulated NIRCam data, you may want to exclude columns below 50 or above 1750, as those are very noisy. *(This is a smidge more complicated. Good luck!)*"
   ]
  }
 ],
 "metadata": {
  "celltoolbar": "Slideshow",
  "kernelspec": {
   "display_name": "Python 3",
   "language": "python",
   "name": "python3"
  },
  "language_info": {
   "codemirror_mode": {
    "name": "ipython",
    "version": 3
   },
   "file_extension": ".py",
   "mimetype": "text/x-python",
   "name": "python",
   "nbconvert_exporter": "python",
   "pygments_lexer": "ipython3",
   "version": "3.8.8"
  }
 },
 "nbformat": 4,
 "nbformat_minor": 4
}
